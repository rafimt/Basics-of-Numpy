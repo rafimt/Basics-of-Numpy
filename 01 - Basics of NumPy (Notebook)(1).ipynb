{
 "cells": [
  {
   "cell_type": "markdown",
   "metadata": {},
   "source": [
    "# Basics of NumPy\n",
    "\n",
    "\n",
    "\n",
    "The following topics are covered in this tutorial:\n",
    "\n",
    "- Construction\n",
    "- Attributes\n",
    "- Indexing\n",
    "- Slicing\n",
    "- Combined indexing & slicing\n",
    "- Views & copies\n",
    "- Reshaping\n",
    "- Combining and splitting\n"
   ]
  },
  {
   "cell_type": "markdown",
   "metadata": {},
   "source": [
    "# Setup NumPy\n"
   ]
  },
  {
   "cell_type": "code",
   "execution_count": 1,
   "metadata": {},
   "outputs": [
    {
     "name": "stdout",
     "output_type": "stream",
     "text": [
      "numpy version:  1.21.6\n"
     ]
    }
   ],
   "source": [
    "import numpy as np\n",
    "print('numpy version: ', np.__version__)\n",
    "np.random.seed(124)"
   ]
  },
  {
   "cell_type": "markdown",
   "metadata": {},
   "source": [
    "# Construction\n"
   ]
  },
  {
   "cell_type": "markdown",
   "metadata": {},
   "source": [
    "A NumPy array can simply be constructed from a Python list that provides values."
   ]
  },
  {
   "cell_type": "code",
   "execution_count": 2,
   "metadata": {},
   "outputs": [
    {
     "name": "stdout",
     "output_type": "stream",
     "text": [
      "[0 1 2 3]\n"
     ]
    }
   ],
   "source": [
    "a0 = np.array([0,1,2,3])\n",
    "print(a0)"
   ]
  },
  {
   "cell_type": "code",
   "execution_count": 3,
   "metadata": {},
   "outputs": [
    {
     "name": "stdout",
     "output_type": "stream",
     "text": [
      "[[0 1 2 3]\n",
      " [1 2 3 4]\n",
      " [2 3 1 4]]\n"
     ]
    }
   ],
   "source": [
    "a00 = np.array([[0,1,2,3], [1,2,3,4], [2,3,1,4]])\n",
    "print(a00)"
   ]
  },
  {
   "cell_type": "code",
   "execution_count": 4,
   "metadata": {},
   "outputs": [
    {
     "name": "stdout",
     "output_type": "stream",
     "text": [
      "[ 0.28847906 -0.46295408 -1.33800442 ...  0.7165962   0.04406446\n",
      " -0.22293982]\n"
     ]
    }
   ],
   "source": [
    "a1 = np.random.randn(100000)\n",
    "print(a1)"
   ]
  },
  {
   "cell_type": "markdown",
   "metadata": {},
   "source": [
    "Uniform"
   ]
  },
  {
   "cell_type": "code",
   "execution_count": 5,
   "metadata": {},
   "outputs": [
    {
     "name": "stdout",
     "output_type": "stream",
     "text": [
      "[[12.21381579 17.64691537  1.92394764 12.32099227 14.19329493]\n",
      " [ 5.61746372  6.81516265 10.76025264 16.32530654  9.55802716]\n",
      " [18.82677797 19.38739233 19.70009127 10.35937077  2.93379732]]\n"
     ]
    }
   ],
   "source": [
    "a2 = np.random.uniform(0,20,(3,5))\n",
    "print(a2)"
   ]
  },
  {
   "cell_type": "code",
   "execution_count": 6,
   "metadata": {},
   "outputs": [],
   "source": [
    "a7 = np.random.uniform(0,80,(6,2,7,5,9,2,3))"
   ]
  },
  {
   "cell_type": "markdown",
   "metadata": {},
   "source": [
    "There are also convenient ways to construct arrays with all zeros, ones, or given a value with the **zeros()**, **ones()**, and **full()** functions. Pass the shape of the array as a tuple as first argument."
   ]
  },
  {
   "cell_type": "code",
   "execution_count": 7,
   "metadata": {},
   "outputs": [
    {
     "name": "stdout",
     "output_type": "stream",
     "text": [
      "[[0. 0. 0. 0. 0.]\n",
      " [0. 0. 0. 0. 0.]]\n",
      "\n",
      "[[[1. 1.]\n",
      "  [1. 1.]\n",
      "  [1. 1.]\n",
      "  [1. 1.]]\n",
      "\n",
      " [[1. 1.]\n",
      "  [1. 1.]\n",
      "  [1. 1.]\n",
      "  [1. 1.]]\n",
      "\n",
      " [[1. 1.]\n",
      "  [1. 1.]\n",
      "  [1. 1.]\n",
      "  [1. 1.]]]\n",
      "\n",
      "[[8 8 8 8 8 8]\n",
      " [8 8 8 8 8 8]\n",
      " [8 8 8 8 8 8]]\n"
     ]
    }
   ],
   "source": [
    "z = np.zeros((2, 5))\n",
    "print(z)\n",
    "print()\n",
    "o = np.ones((3, 4, 2))\n",
    "print(o)\n",
    "print()\n",
    "n = np.full((3, 6), 8)\n",
    "print(n)"
   ]
  },
  {
   "cell_type": "markdown",
   "metadata": {},
   "source": [
    "Eye"
   ]
  },
  {
   "cell_type": "code",
   "execution_count": 8,
   "metadata": {},
   "outputs": [],
   "source": [
    "e = np.eye(5)"
   ]
  },
  {
   "cell_type": "markdown",
   "metadata": {},
   "source": [
    "For all the above construction functions, you can define the data type of the array with the named **dtype** argument.\n",
    "\n",
    "Common data types are **int64** (integer), **uint64** (unsigned integer), **float64**, **complex64**, where 64 refers to a 64-bit version. There are also variations for 8, 16, 32, and in the case of complex 128 bits."
   ]
  },
  {
   "cell_type": "code",
   "execution_count": 9,
   "metadata": {},
   "outputs": [],
   "source": [
    "u1 = np.full((2,3),9, dtype = np.uint64)"
   ]
  },
  {
   "cell_type": "markdown",
   "metadata": {},
   "source": [
    "## Attributes\n",
    "\n"
   ]
  },
  {
   "cell_type": "markdown",
   "metadata": {},
   "source": [
    "The attributer **ndim** gives the number of dimensions."
   ]
  },
  {
   "cell_type": "code",
   "execution_count": 10,
   "metadata": {},
   "outputs": [
    {
     "name": "stdout",
     "output_type": "stream",
     "text": [
      "22680\n"
     ]
    }
   ],
   "source": [
    "print(a7.size)"
   ]
  },
  {
   "cell_type": "markdown",
   "metadata": {},
   "source": [
    "Shape"
   ]
  },
  {
   "cell_type": "code",
   "execution_count": 11,
   "metadata": {},
   "outputs": [
    {
     "name": "stdout",
     "output_type": "stream",
     "text": [
      "(6, 2, 7, 5, 9, 2, 3)\n"
     ]
    }
   ],
   "source": [
    "print(a7.shape)"
   ]
  },
  {
   "cell_type": "code",
   "execution_count": 12,
   "metadata": {},
   "outputs": [
    {
     "data": {
      "text/plain": [
       "tuple"
      ]
     },
     "execution_count": 12,
     "metadata": {},
     "output_type": "execute_result"
    }
   ],
   "source": [
    "type(a1.shape)"
   ]
  },
  {
   "cell_type": "markdown",
   "metadata": {},
   "source": [
    "Type"
   ]
  },
  {
   "cell_type": "code",
   "execution_count": 13,
   "metadata": {},
   "outputs": [
    {
     "data": {
      "text/plain": [
       "numpy.ndarray"
      ]
     },
     "execution_count": 13,
     "metadata": {},
     "output_type": "execute_result"
    }
   ],
   "source": [
    "type(a7)"
   ]
  },
  {
   "cell_type": "markdown",
   "metadata": {},
   "source": [
    "dtpe\n"
   ]
  },
  {
   "cell_type": "code",
   "execution_count": 14,
   "metadata": {},
   "outputs": [
    {
     "name": "stdout",
     "output_type": "stream",
     "text": [
      "float64\n"
     ]
    }
   ],
   "source": [
    "print(a1.dtype)"
   ]
  },
  {
   "cell_type": "markdown",
   "metadata": {},
   "source": [
    "The attribute **size** holds the total number of elements in the array. "
   ]
  },
  {
   "cell_type": "code",
   "execution_count": 15,
   "metadata": {},
   "outputs": [
    {
     "name": "stdout",
     "output_type": "stream",
     "text": [
      "22680\n"
     ]
    }
   ],
   "source": [
    "print(a7.size)"
   ]
  },
  {
   "cell_type": "code",
   "execution_count": 16,
   "metadata": {},
   "outputs": [
    {
     "name": "stdout",
     "output_type": "stream",
     "text": [
      "181440\n"
     ]
    }
   ],
   "source": [
    "print(a7.nbytes)"
   ]
  },
  {
   "cell_type": "markdown",
   "metadata": {},
   "source": [
    "# Indexing\n",
    "\n"
   ]
  },
  {
   "cell_type": "code",
   "execution_count": 17,
   "metadata": {},
   "outputs": [
    {
     "name": "stdout",
     "output_type": "stream",
     "text": [
      "-1.0175213629626445\n"
     ]
    }
   ],
   "source": [
    "print(a1[6])"
   ]
  },
  {
   "cell_type": "code",
   "execution_count": 18,
   "metadata": {},
   "outputs": [
    {
     "name": "stdout",
     "output_type": "stream",
     "text": [
      "a1[i] : 0.2884790609311843\n",
      "a1[i] : -0.46295408222658696\n",
      "a1[i] : -1.338004420633611\n",
      "a1[i] : 2.317015672344602\n",
      "a1[i] : -1.4673759339812118\n",
      "a1[i] : -0.748547692135884\n",
      "a1[i] : -1.0175213629626445\n",
      "a1[i] : 1.6350668010249894\n",
      "a1[i] : 0.9225456123685942\n",
      "a1[i] : -0.719881324562294\n"
     ]
    }
   ],
   "source": [
    "for i in range(10):\n",
    "    print(f'a1[i] : {a1[i]}')"
   ]
  },
  {
   "cell_type": "code",
   "execution_count": 19,
   "metadata": {},
   "outputs": [
    {
     "name": "stdout",
     "output_type": "stream",
     "text": [
      "[0 1 2 3]\n",
      " \n",
      "0\n"
     ]
    }
   ],
   "source": [
    "print(a0)\n",
    "print(' ')\n",
    "print(a0[-4])"
   ]
  },
  {
   "cell_type": "code",
   "execution_count": 20,
   "metadata": {},
   "outputs": [
    {
     "name": "stdout",
     "output_type": "stream",
     "text": [
      "[[12.21381579 17.64691537  1.92394764 12.32099227 14.19329493]\n",
      " [ 5.61746372  6.81516265 10.76025264 16.32530654  9.55802716]\n",
      " [18.82677797 19.38739233 19.70009127 10.35937077  2.93379732]]\n",
      " \n",
      "[ 1.92394764 10.76025264]\n"
     ]
    }
   ],
   "source": [
    "print(a2)\n",
    "print(' ')\n",
    "print(a2[0:2,2])"
   ]
  },
  {
   "cell_type": "code",
   "execution_count": 21,
   "metadata": {},
   "outputs": [
    {
     "name": "stdout",
     "output_type": "stream",
     "text": [
      "[[12.21381579 17.64691537  1.92394764 12.32099227 14.19329493]\n",
      " [ 5.61746372  6.81516265  2.34       16.32530654  9.55802716]\n",
      " [18.82677797 19.38739233 19.70009127 10.35937077  2.93379732]]\n"
     ]
    }
   ],
   "source": [
    "a2[1,2] = 2.34\n",
    "print(a2)"
   ]
  },
  {
   "cell_type": "code",
   "execution_count": 22,
   "metadata": {},
   "outputs": [
    {
     "name": "stdout",
     "output_type": "stream",
     "text": [
      "[0 1 2 3]\n",
      "[0 1 7 3]\n"
     ]
    }
   ],
   "source": [
    "print(a0)\n",
    "a0[2] = 7.56\n",
    "# the decimals are not stored as the floating point number is\n",
    "# first converted to an integer number, loosing the decimals\n",
    "# in the process\n",
    "print(a0)"
   ]
  },
  {
   "cell_type": "markdown",
   "metadata": {},
   "source": [
    "# Slicing"
   ]
  },
  {
   "cell_type": "code",
   "execution_count": 90,
   "metadata": {},
   "outputs": [
    {
     "name": "stdout",
     "output_type": "stream",
     "text": [
      "[4 4 4 6 3 4 8 9 1 3]\n",
      "[4 4 4 6 3]\n",
      "[4 6 3 4 8 9]\n",
      "[4 4 3 8 1]\n"
     ]
    }
   ],
   "source": [
    "r10 = np.random.randint(10, size=(10))\n",
    "print(r10)\n",
    "print(r10[0:5:1])\n",
    "print(r10[2:8:1])\n",
    "print(r10[0:10:2])"
   ]
  },
  {
   "cell_type": "code",
   "execution_count": 24,
   "metadata": {},
   "outputs": [
    {
     "name": "stdout",
     "output_type": "stream",
     "text": [
      "[2 5 5 5 1]\n",
      "[5 5 1 1 8 7]\n",
      "[2 5 1 8 4]\n"
     ]
    }
   ],
   "source": [
    "print(r10[:5:])\n",
    "print(r10[2:8:])\n",
    "print(r10[::2])"
   ]
  },
  {
   "cell_type": "code",
   "execution_count": 25,
   "metadata": {},
   "outputs": [
    {
     "name": "stdout",
     "output_type": "stream",
     "text": [
      "[6 4 7 8 1 1 5 5 5 2]\n",
      "[4 7 8 1 1 5 5 5 2]\n"
     ]
    }
   ],
   "source": [
    "print(r10[::-1])\n",
    "print(r10[8::-1])"
   ]
  },
  {
   "cell_type": "code",
   "execution_count": 26,
   "metadata": {},
   "outputs": [
    {
     "name": "stdout",
     "output_type": "stream",
     "text": [
      "[[8 2 5 3 6]\n",
      " [9 4 0 2 8]\n",
      " [7 6 1 9 3]]\n",
      "\n",
      "[[5 3 6]\n",
      " [0 2 8]]\n"
     ]
    }
   ],
   "source": [
    " i12 = np.array([[8, 2, 5, 3, 6], [9, 4, 0, 2, 8], [7, 6, 1, 9, 3]])\n",
    "print(i12)\n",
    "print()\n",
    "print(i12[0:2:1, 2:5:1])"
   ]
  },
  {
   "cell_type": "code",
   "execution_count": 27,
   "metadata": {},
   "outputs": [
    {
     "name": "stdout",
     "output_type": "stream",
     "text": [
      "[[5 3 6]\n",
      " [0 2 8]]\n"
     ]
    }
   ],
   "source": [
    " # same as above\n",
    "print(i12[:2:, 2::])"
   ]
  },
  {
   "cell_type": "code",
   "execution_count": 28,
   "metadata": {},
   "outputs": [
    {
     "name": "stdout",
     "output_type": "stream",
     "text": [
      "[[8 0 9]\n",
      " [3 1 7]]\n",
      "\n",
      "[[8 0 9]\n",
      " [3 1 7]]\n"
     ]
    }
   ],
   "source": [
    "print(i12[1::, ::-2])\n",
    "print()\n",
    "print(i12[1:, ::-2])"
   ]
  },
  {
   "cell_type": "code",
   "execution_count": 29,
   "metadata": {},
   "outputs": [
    {
     "name": "stdout",
     "output_type": "stream",
     "text": [
      "[[5 3 6]\n",
      " [0 2 8]]\n"
     ]
    }
   ],
   "source": [
    "print(i12[:2, 2:])"
   ]
  },
  {
   "cell_type": "code",
   "execution_count": 30,
   "metadata": {},
   "outputs": [
    {
     "name": "stdout",
     "output_type": "stream",
     "text": [
      "[[8 2 5 3 6]\n",
      " [9 4 0 2 8]]\n"
     ]
    }
   ],
   "source": [
    "print(i12[0:2, :])"
   ]
  },
  {
   "cell_type": "code",
   "execution_count": 31,
   "metadata": {},
   "outputs": [
    {
     "name": "stdout",
     "output_type": "stream",
     "text": [
      "[[9 4 0 2 8]\n",
      " [7 6 1 9 3]]\n"
     ]
    }
   ],
   "source": [
    "print(i12[1::, ...])"
   ]
  },
  {
   "cell_type": "code",
   "execution_count": 32,
   "metadata": {},
   "outputs": [
    {
     "name": "stdout",
     "output_type": "stream",
     "text": [
      "(3, 2, 7, 5, 9, 2, 3)\n",
      "(3, 1, 7, 5, 9, 2, 1)\n"
     ]
    }
   ],
   "source": [
    " # Remember the shape of a7 is (6, 2, 7, 5, 9, 2, 3)\n",
    "print(a7[0:3:, ...].shape)\n",
    "print(a7[0:3:, 0:1:, ..., 0:3:, 0:1:2].shape)"
   ]
  },
  {
   "cell_type": "code",
   "execution_count": 33,
   "metadata": {},
   "outputs": [
    {
     "name": "stdout",
     "output_type": "stream",
     "text": [
      "(3, 7, 5, 9, 2)\n"
     ]
    }
   ],
   "source": [
    " print(np.squeeze(a7[0:3:, 0:1:, ..., 0:3:, 0:1:2]).shape)"
   ]
  },
  {
   "cell_type": "code",
   "execution_count": 34,
   "metadata": {},
   "outputs": [
    {
     "name": "stdout",
     "output_type": "stream",
     "text": [
      "1890\n",
      "1890\n"
     ]
    }
   ],
   "source": [
    "print(np.squeeze(a7[0:3:, 0:1:, ..., 0:3:, 0:1:2]).size)\n",
    "print(a7[0:3:, 0:1:, ..., 0:3:, 0:1:2].size)"
   ]
  },
  {
   "cell_type": "markdown",
   "metadata": {},
   "source": [
    "# Combined Indexing & Slicing"
   ]
  },
  {
   "cell_type": "code",
   "execution_count": 35,
   "metadata": {},
   "outputs": [
    {
     "name": "stdout",
     "output_type": "stream",
     "text": [
      "[[8 2 5 3 6]\n",
      " [9 4 0 2 8]\n",
      " [7 6 1 9 3]]\n",
      "\n",
      "[4 0 2]\n"
     ]
    }
   ],
   "source": [
    "print(i12)\n",
    "print()\n",
    "print(i12[1, 1:4])"
   ]
  },
  {
   "cell_type": "code",
   "execution_count": 36,
   "metadata": {},
   "outputs": [
    {
     "name": "stdout",
     "output_type": "stream",
     "text": [
      "(3, 5)\n",
      "(3,)\n"
     ]
    }
   ],
   "source": [
    " print(i12.shape)\n",
    "print(i12[1, 1:4].shape)"
   ]
  },
  {
   "cell_type": "code",
   "execution_count": 37,
   "metadata": {},
   "outputs": [
    {
     "name": "stdout",
     "output_type": "stream",
     "text": [
      "(2, 4, 5)\n",
      "\n",
      "[[[1 7 3 5 6]\n",
      "  [9 2 6 9 9]\n",
      "  [8 3 2 5 9]\n",
      "  [8 3 0 3 6]]\n",
      "\n",
      " [[5 9 4 7 7]\n",
      "  [1 7 9 5 9]\n",
      "  [2 1 8 4 4]\n",
      "  [9 1 1 0 9]]]\n"
     ]
    }
   ],
   "source": [
    "i3D = np.random.randint(0, 10,(2, 4, 5))\n",
    "print(i3D.shape)\n",
    "print()\n",
    "print(i3D)"
   ]
  },
  {
   "cell_type": "code",
   "execution_count": 38,
   "metadata": {},
   "outputs": [
    {
     "name": "stdout",
     "output_type": "stream",
     "text": [
      "(2, 2, 5)\n",
      "\n",
      "[[[9 2 6 9 9]\n",
      "  [8 3 2 5 9]]\n",
      "\n",
      " [[1 7 9 5 9]\n",
      "  [2 1 8 4 4]]]\n"
     ]
    }
   ],
   "source": [
    "print(i3D[:, 1:3, :].shape)\n",
    "print()\n",
    "print(i3D[:, 1:3, :])"
   ]
  },
  {
   "cell_type": "code",
   "execution_count": 39,
   "metadata": {},
   "outputs": [
    {
     "name": "stdout",
     "output_type": "stream",
     "text": [
      "(2, 1, 5)\n",
      "\n",
      "[[[9 2 6 9 9]]\n",
      "\n",
      " [[1 7 9 5 9]]]\n"
     ]
    }
   ],
   "source": [
    " print(i3D[::, 1:2, ::].shape)\n",
    "print()\n",
    "print(i3D[::, 1:2, ::])"
   ]
  },
  {
   "cell_type": "code",
   "execution_count": 40,
   "metadata": {},
   "outputs": [
    {
     "name": "stdout",
     "output_type": "stream",
     "text": [
      "[[[1 7 3 5 6]\n",
      "  [9 2 6 9 9]\n",
      "  [8 3 2 5 9]\n",
      "  [8 3 0 3 6]]\n",
      "\n",
      " [[5 9 4 7 7]\n",
      "  [1 7 9 5 9]\n",
      "  [2 1 8 4 4]\n",
      "  [9 1 1 0 9]]]\n",
      "(2, 5)\n",
      "\n",
      "[[9 2 6 9 9]\n",
      " [1 7 9 5 9]]\n"
     ]
    }
   ],
   "source": [
    "print(i3D)\n",
    "print(i3D[::, 1, ::].shape)\n",
    "print()\n",
    "print(i3D[::, 1, ::])"
   ]
  },
  {
   "cell_type": "code",
   "execution_count": 41,
   "metadata": {},
   "outputs": [
    {
     "name": "stdout",
     "output_type": "stream",
     "text": [
      "[9 4 0 2 8]\n",
      "[6 8 3]\n"
     ]
    }
   ],
   "source": [
    "# all of row 1\n",
    "print(i12[1, :])\n",
    "# all of column 4\n",
    "print(i12[:, 4])"
   ]
  },
  {
   "cell_type": "code",
   "execution_count": 42,
   "metadata": {},
   "outputs": [
    {
     "name": "stdout",
     "output_type": "stream",
     "text": [
      "[[6]\n",
      " [8]\n",
      " [3]]\n"
     ]
    }
   ],
   "source": [
    " # all of column 4\n",
    "print(i12[:, 4:5])"
   ]
  },
  {
   "cell_type": "markdown",
   "metadata": {},
   "source": [
    "# Views & Copies"
   ]
  },
  {
   "cell_type": "code",
   "execution_count": 43,
   "metadata": {},
   "outputs": [
    {
     "name": "stdout",
     "output_type": "stream",
     "text": [
      "[[8 2 5 3 6]\n",
      " [9 4 0 2 8]\n",
      " [7 6 1 9 3]]\n",
      "\n",
      "[[4 0 2]\n",
      " [6 1 9]]\n"
     ]
    }
   ],
   "source": [
    "print(i12)\n",
    "print()\n",
    "i12_slice = i12[1:3, 1:4]\n",
    "print(i12_slice)"
   ]
  },
  {
   "cell_type": "code",
   "execution_count": 44,
   "metadata": {},
   "outputs": [
    {
     "name": "stdout",
     "output_type": "stream",
     "text": [
      "[[4 8 2]\n",
      " [6 1 9]]\n",
      " \n",
      "[[8 2 5 3 6]\n",
      " [9 4 8 2 8]\n",
      " [7 6 1 9 3]]\n"
     ]
    }
   ],
   "source": [
    "i12_slice[0,1] = 8\n",
    "print(i12_slice)\n",
    "print(' ')\n",
    "print(i12)"
   ]
  },
  {
   "cell_type": "code",
   "execution_count": 45,
   "metadata": {},
   "outputs": [
    {
     "name": "stdout",
     "output_type": "stream",
     "text": [
      "[[8 2 5 3 6]\n",
      " [9 3 3 3 8]\n",
      " [7 3 3 3 3]]\n"
     ]
    }
   ],
   "source": [
    "i12[1:3, 1:4] = 3\n",
    "print(i12)"
   ]
  },
  {
   "cell_type": "code",
   "execution_count": 46,
   "metadata": {},
   "outputs": [
    {
     "name": "stdout",
     "output_type": "stream",
     "text": [
      "[[8 2 5]\n",
      " [9 3 3]]\n"
     ]
    }
   ],
   "source": [
    "i12_slice_copy = i12[0:2, 0:3].copy()\n",
    "print(i12_slice_copy)"
   ]
  },
  {
   "cell_type": "code",
   "execution_count": 47,
   "metadata": {},
   "outputs": [
    {
     "name": "stdout",
     "output_type": "stream",
     "text": [
      "[[5 5 5]\n",
      " [5 5 5]]\n",
      "\n",
      "[[8 2 5 3 6]\n",
      " [9 3 3 3 8]\n",
      " [7 3 3 3 3]]\n"
     ]
    }
   ],
   "source": [
    "i12_slice_copy[:, :] = 5\n",
    "print(i12_slice_copy)\n",
    "print()\n",
    "print(i12)"
   ]
  },
  {
   "cell_type": "markdown",
   "metadata": {},
   "source": [
    "# Reshaping"
   ]
  },
  {
   "cell_type": "code",
   "execution_count": 48,
   "metadata": {},
   "outputs": [
    {
     "name": "stdout",
     "output_type": "stream",
     "text": [
      "[ 0.  1.  2.  3.  4.  5.  6.  7.  8.  9. 10. 11. 12. 13. 14. 15.]\n",
      "<class 'numpy.ndarray'>\n",
      "float64\n"
     ]
    }
   ],
   "source": [
    "f16 = np.arange(16.0, dtype=np.float64)\n",
    "print(f16)\n",
    "# f16 is a Numpy array\n",
    "print(type(f16))\n",
    "# that stores values of data type (64-bit) floating point\n",
    "print(f16.dtype)"
   ]
  },
  {
   "cell_type": "code",
   "execution_count": 49,
   "metadata": {},
   "outputs": [
    {
     "name": "stdout",
     "output_type": "stream",
     "text": [
      "[[ 0.  1.  2.  3.]\n",
      " [ 4.  5.  6.  7.]\n",
      " [ 8.  9. 10. 11.]\n",
      " [12. 13. 14. 15.]]\n"
     ]
    }
   ],
   "source": [
    "f16_reshaped = f16.reshape((4, 4))\n",
    "print(f16_reshaped)"
   ]
  },
  {
   "cell_type": "code",
   "execution_count": 50,
   "metadata": {},
   "outputs": [
    {
     "name": "stdout",
     "output_type": "stream",
     "text": [
      "(1, 4)\n",
      "\n",
      "(4, 1)\n"
     ]
    }
   ],
   "source": [
    "f4 = np.arange(4, dtype=np.float64)\n",
    "# row matrix\n",
    "print(f4[np.newaxis, :].shape)\n",
    "print()\n",
    "# column matrix\n",
    "print(f4[:, np.newaxis].shape)"
   ]
  },
  {
   "cell_type": "markdown",
   "metadata": {},
   "source": [
    "# Combining and Splitting\n"
   ]
  },
  {
   "cell_type": "code",
   "execution_count": 51,
   "metadata": {},
   "outputs": [
    {
     "name": "stdout",
     "output_type": "stream",
     "text": [
      "[2 2 1]\n",
      "[7 5 1]\n",
      "[7 8 7]\n",
      "\n",
      "[2 2 1 7 5 1 7 8 7]\n"
     ]
    }
   ],
   "source": [
    " x = np.random.randint(0, 9, (3))\n",
    "y = np.random.randint(0, 9, (3))\n",
    "z = np.random.randint(0, 9, (3))\n",
    "r = np.concatenate([x, y, z])\n",
    "print(x)\n",
    "print(y)\n",
    "print(z)\n",
    "print()\n",
    "print(r)"
   ]
  },
  {
   "cell_type": "markdown",
   "metadata": {},
   "source": [
    "For multidimensional arrays, the dimension to concatenate by can be specified by the **axis** argument. (Be aware that the numbering of axis starts with 0 and that the axis must exist. You cannot increase the number of dimensions of the arrays with this function, just the size of the dimensions.)"
   ]
  },
  {
   "cell_type": "code",
   "execution_count": 52,
   "metadata": {},
   "outputs": [
    {
     "name": "stdout",
     "output_type": "stream",
     "text": [
      "[[4 6 8 0]\n",
      " [6 1 1 2]]\n",
      "\n",
      "[[7 3 8 4]\n",
      " [6 8 4 7]]\n",
      "\n",
      "[[4 6 8 0]\n",
      " [6 1 1 2]\n",
      " [7 3 8 4]\n",
      " [6 8 4 7]]\n",
      "\n",
      "[[4 6 8 0 7 3 8 4]\n",
      " [6 1 1 2 6 8 4 7]]\n"
     ]
    }
   ],
   "source": [
    "x2 = np.random.randint(0, 9, (2, 4))\n",
    "y2 = np.random.randint(0, 9, (2, 4))\n",
    "r1 = np.concatenate([x2, y2], axis=0)\n",
    "r2 = np.concatenate([x2, y2], axis=1)\n",
    "print(x2)\n",
    "print()\n",
    "print(y2)\n",
    "print()\n",
    "print(r1)\n",
    "print()\n",
    "print(r2)"
   ]
  },
  {
   "cell_type": "markdown",
   "metadata": {},
   "source": [
    "You can also number the axis from the back using negative axis indices. The following is equivalent to the above. "
   ]
  },
  {
   "cell_type": "code",
   "execution_count": 53,
   "metadata": {},
   "outputs": [
    {
     "name": "stdout",
     "output_type": "stream",
     "text": [
      "[[4 6 8 0]\n",
      " [6 1 1 2]]\n",
      "\n",
      "[[7 3 8 4]\n",
      " [6 8 4 7]]\n",
      "\n",
      "[[4 6 8 0]\n",
      " [6 1 1 2]\n",
      " [7 3 8 4]\n",
      " [6 8 4 7]]\n",
      "\n",
      "[[4 6 8 0 7 3 8 4]\n",
      " [6 1 1 2 6 8 4 7]]\n"
     ]
    }
   ],
   "source": [
    "r1 = np.concatenate([x2, y2], axis=-2)\n",
    "r2 = np.concatenate([x2, y2], axis=-1)\n",
    "print(x2)\n",
    "print()\n",
    "print(y2)\n",
    "print()\n",
    "print(r1)\n",
    "print()\n",
    "print(r2)"
   ]
  },
  {
   "cell_type": "markdown",
   "metadata": {},
   "source": [
    "The axis index -1 is particularly useful as one often wants to concatenate by the last axis. And by passing the axis argument -1 (instead of a positive number), it is not necessary to keep track of how many dimensions the array has: it is the last dimension, no matter how many dimensions the input array has. For example, if it happens that the array shape needs to be changed (by increasing or decreasing the number of dimensions), because you added some further code at the beginning of your program, then the index -1 still refers to the last dimension. No need to correct it."
   ]
  },
  {
   "cell_type": "markdown",
   "metadata": {},
   "source": [
    "The function **vstack()** stacks arrays vertically, meaning it concantenates arrays row wise. "
   ]
  },
  {
   "cell_type": "code",
   "execution_count": 54,
   "metadata": {},
   "outputs": [
    {
     "name": "stdout",
     "output_type": "stream",
     "text": [
      "[[2 2 1]\n",
      " [7 5 1]\n",
      " [7 8 7]]\n"
     ]
    }
   ],
   "source": [
    " r = np.vstack([x, y, z])\n",
    "print(r)"
   ]
  },
  {
   "cell_type": "markdown",
   "metadata": {},
   "source": [
    "Note the difference with regard to the shape of the resulting arrays between concatenate and vstack. Concatenate joins the two arrays along the existing axis, while vstack introduces a new axis."
   ]
  },
  {
   "cell_type": "code",
   "execution_count": 55,
   "metadata": {},
   "outputs": [
    {
     "name": "stdout",
     "output_type": "stream",
     "text": [
      "(9,)\n",
      "(3, 3)\n"
     ]
    }
   ],
   "source": [
    " print(np.concatenate([x, y, z]).shape)\n",
    "print(np.vstack([x, y, z]).shape)"
   ]
  },
  {
   "cell_type": "markdown",
   "metadata": {},
   "source": [
    "A new axis is, however, only introduced, if the respective axis does not already exist. If we stack along the horizontal direction with the function **hstack()**, which is column wise, then no new axis needs to be introduced, even for the 1-dimensional case."
   ]
  },
  {
   "cell_type": "code",
   "execution_count": 56,
   "metadata": {},
   "outputs": [
    {
     "name": "stdout",
     "output_type": "stream",
     "text": [
      "(9,)\n",
      "[2 2 1 7 5 1 7 8 7]\n"
     ]
    }
   ],
   "source": [
    " r = np.hstack([x, y, z])\n",
    "print(r.shape)\n",
    "print(r)"
   ]
  },
  {
   "cell_type": "markdown",
   "metadata": {},
   "source": [
    "For 2-dimensional arrays, both vstack and hstack do not introduced new dimensions, since this is not necessary. So the result is the same as with concatenate."
   ]
  },
  {
   "cell_type": "code",
   "execution_count": 57,
   "metadata": {},
   "outputs": [
    {
     "name": "stdout",
     "output_type": "stream",
     "text": [
      "[[4 6 8 0]\n",
      " [6 1 1 2]\n",
      " [7 3 8 4]\n",
      " [6 8 4 7]]\n",
      "\n",
      "[[4 6 8 0 7 3 8 4]\n",
      " [6 1 1 2 6 8 4 7]]\n"
     ]
    }
   ],
   "source": [
    "print(np.vstack([x2, y2]))\n",
    "print()\n",
    "print(np.hstack([x2, y2]))"
   ]
  },
  {
   "cell_type": "markdown",
   "metadata": {},
   "source": [
    "But we can stack 2-dimensional arrays according to the depth dimension with the function **dstack()**."
   ]
  },
  {
   "cell_type": "code",
   "execution_count": 58,
   "metadata": {},
   "outputs": [
    {
     "name": "stdout",
     "output_type": "stream",
     "text": [
      "[[4 6 8 0]\n",
      " [6 1 1 2]]\n",
      "(2, 4, 2)\n",
      "\n",
      "[[[4 7]\n",
      "  [6 3]\n",
      "  [8 8]\n",
      "  [0 4]]\n",
      "\n",
      " [[6 6]\n",
      "  [1 8]\n",
      "  [1 4]\n",
      "  [2 7]]]\n"
     ]
    }
   ],
   "source": [
    " r3 = np.dstack([x2, y2])\n",
    "print(x2)\n",
    "print(r3.shape)\n",
    "print()\n",
    "print(r3)"
   ]
  },
  {
   "cell_type": "markdown",
   "metadata": {},
   "source": [
    "Due to the fact that the resulting array now has 3 dimensions, the output with print is no longer as nice and easy to follow.\n",
    "\n",
    "There is also a general function **stack()**, that allows you to define the axis to stack by."
   ]
  },
  {
   "cell_type": "markdown",
   "metadata": {},
   "source": [
    "For the splitting of arrays, NumPy provides the functions **split()**, **vsplit()**, **hsplit()**, and **dsplit()**, which work on a given axis, row wise, column wise, or depth wise, respectively. When no further information is passed to the functions, the split produces arrays of equal size. The number of times the array is to be split is passed as the first argument to the function.\n",
    "\n",
    "Note that the function returns a tuple with as many sub-arrays as is requested by the respective argument. And that the result of a split function are views on arrays, rather than copies of arrays (like the slicing operation)."
   ]
  },
  {
   "cell_type": "code",
   "execution_count": 84,
   "metadata": {},
   "outputs": [
    {
     "name": "stdout",
     "output_type": "stream",
     "text": [
      "[[4 6 8 0]\n",
      " [6 1 1 2]]\n",
      "\n",
      "[array([[4, 6, 8, 0]]), array([[6, 1, 1, 2]])]\n",
      "\n",
      "[[4 6 8 0]]\n",
      "\n",
      "[[6 1 1 2]]\n"
     ]
    }
   ],
   "source": [
    " print(x2)\n",
    "print()\n",
    "print(np.vsplit(x2, 2))\n",
    "s1, s2 = np.vsplit(x2, 2)\n",
    "print()\n",
    "print(s1)\n",
    "print()\n",
    "print(s2)"
   ]
  },
  {
   "cell_type": "code",
   "execution_count": 73,
   "metadata": {},
   "outputs": [
    {
     "name": "stdout",
     "output_type": "stream",
     "text": [
      "[[7 3 8 4]\n",
      " [6 8 4 7]]\n",
      "\n",
      "[[7 3]\n",
      " [6 8]]\n",
      "\n",
      "[[8 4]\n",
      " [4 7]]\n"
     ]
    }
   ],
   "source": [
    "print(y2)\n",
    "print()\n",
    "s1, s2 = np.hsplit(y2, 2)\n",
    "print(s1)\n",
    "print()\n",
    "print(s2)"
   ]
  },
  {
   "cell_type": "markdown",
   "metadata": {},
   "source": [
    "Instead of the number of times the split should be performed, you can also pass a list of indices as a second argument that defines exactly where the splits should happen according to the respective axis. (The returned sub-arrays are then not of equal size, but rather exactly how you defined it.)"
   ]
  },
  {
   "cell_type": "code",
   "execution_count": 88,
   "metadata": {},
   "outputs": [
    {
     "name": "stdout",
     "output_type": "stream",
     "text": [
      "[[4 6 8 0]\n",
      " [6 1 1 2]]\n",
      "\n",
      "\n",
      "[]\n",
      "\n",
      "[[4 6]\n",
      " [6 1]]\n",
      "\n",
      "[[8 0]\n",
      " [1 2]]\n"
     ]
    }
   ],
   "source": [
    "print(x2)\n",
    "print()\n",
    "s1, s2, s3 = np.hsplit(x2, [0,2])\n",
    "print()\n",
    "print(s1)\n",
    "print()\n",
    "print(s2)\n",
    "print()\n",
    "print(s3)"
   ]
  },
  {
   "cell_type": "markdown",
   "metadata": {},
   "source": [
    "# Closing Remarks"
   ]
  },
  {
   "cell_type": "markdown",
   "metadata": {},
   "source": [
    "The exercise notebook just shows the most common ways of constructing, indexing, slicing, reshaping, combining, and splitting multidimensional arrays, and there are many more functions that can be used for these purposes. Check the official online documentation of NumPy for further ways. There are also a lot of tricks of the trade that can be used to accomplish some things in this regard in an elegant way. It is always worth searching the web to see if someone encountered the same problem and if someone else had a great way to solve it. \n",
    "\n",
    "Once you become more experienced with Numpy,  you will probably love to use it."
   ]
  },
  {
   "cell_type": "markdown",
   "metadata": {},
   "source": []
  }
 ],
 "metadata": {
  "kernelspec": {
   "display_name": "Python 3 (ipykernel)",
   "language": "python",
   "name": "python3"
  },
  "language_info": {
   "codemirror_mode": {
    "name": "ipython",
    "version": 3
   },
   "file_extension": ".py",
   "mimetype": "text/x-python",
   "name": "python",
   "nbconvert_exporter": "python",
   "pygments_lexer": "ipython3",
   "version": "3.10.10"
  }
 },
 "nbformat": 4,
 "nbformat_minor": 4
}
